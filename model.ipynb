{
 "cells": [
  {
   "cell_type": "code",
   "execution_count": 5,
   "id": "d4399314",
   "metadata": {},
   "outputs": [],
   "source": [
    "import speech_recognition as sr"
   ]
  },
  {
   "cell_type": "code",
   "execution_count": 18,
   "id": "dd7c40a6",
   "metadata": {},
   "outputs": [],
   "source": [
    "a = sr.AudioFile(\"Welcome.wav\")"
   ]
  },
  {
   "cell_type": "code",
   "execution_count": 19,
   "id": "4a878659",
   "metadata": {},
   "outputs": [],
   "source": [
    "with a as source:\n",
    "    a = sr.Recognizer().record(source)"
   ]
  },
  {
   "cell_type": "code",
   "execution_count": 20,
   "id": "80acd8a8",
   "metadata": {},
   "outputs": [
    {
     "name": "stdout",
     "output_type": "stream",
     "text": [
      "Birch canoe slid on the smooth plank glue the sea to a dark blue background it is easy to tell the depth of the well these days a chicken leg of a variegated price is often served in Randall's the juice of lemons makes find the boxes on the side the pump truck the ha grimstead top corn and garbage for hours of City Works in a large size and stockings and hard to sell\n"
     ]
    }
   ],
   "source": [
    "print(sr.Recognizer().recognize_google(a))\n"
   ]
  },
  {
   "cell_type": "code",
   "execution_count": null,
   "id": "0f395909",
   "metadata": {},
   "outputs": [],
   "source": []
  }
 ],
 "metadata": {
  "kernelspec": {
   "display_name": "Python 3",
   "language": "python",
   "name": "python3"
  },
  "language_info": {
   "codemirror_mode": {
    "name": "ipython",
    "version": 3
   },
   "file_extension": ".py",
   "mimetype": "text/x-python",
   "name": "python",
   "nbconvert_exporter": "python",
   "pygments_lexer": "ipython3",
   "version": "3.8.8"
  }
 },
 "nbformat": 4,
 "nbformat_minor": 5
}
